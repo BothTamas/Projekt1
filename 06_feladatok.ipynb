{
  "nbformat": 4,
  "nbformat_minor": 0,
  "metadata": {
    "hide_input": false,
    "kernelspec": {
      "display_name": "Python 3",
      "language": "python",
      "name": "python3"
    },
    "language_info": {
      "codemirror_mode": {
        "name": "ipython",
        "version": 3
      },
      "file_extension": ".py",
      "mimetype": "text/x-python",
      "name": "python",
      "nbconvert_exporter": "python",
      "pygments_lexer": "ipython3",
      "version": "3.7.1"
    },
    "colab": {
      "name": "feladat01.ipynb",
      "provenance": [],
      "collapsed_sections": []
    }
  },
  "cells": [
    {
      "cell_type": "markdown",
      "metadata": {
        "id": "BrjbAqF7dFwX"
      },
      "source": [
        "# Feladatok\n",
        "\n",
        "\n",
        "\n",
        "----\n"
      ]
    },
    {
      "cell_type": "markdown",
      "metadata": {
        "id": "4u3wvRgsdFwa"
      },
      "source": [
        "## 1. Feladat\n",
        "#### Listák - I. \n",
        "\n",
        "Galileo Galilei egyik gondolatát küdték el nekünk SMS-ben, de sajnos hálózati hiba miatt nem sorrendben érkeztek meg a szavak. A következőt olvastuk a telefonunkban:"
      ]
    },
    {
      "cell_type": "code",
      "metadata": {
        "id": "KiIy4GbidFwb"
      },
      "source": [
        "sms=['Szentírás ', 'bölcs ', 'a ', 'már ', 'szükséges ', 'mondhat ', 'biztosak ', 'a ', \n",
        "     'feladata, ', 'Mivel ', 'ellent ', 'a ', 'érzéki ', 'azokkal ', 'következtetésekkel, ',\n",
        "     'a ', 'vagyunk ', 'a ', 'tapasztalataink ', 'szöveg ', 'azon ', 'igazság ', 'sose ',\n",
        "     'ami ', 'hogy ', 'melyekben ', 'kísérletek ', 'megtalálják ', 'által.', 'két ', 'fizikai ',\n",
        "     'egymásnak, ', 'egyezik ', 'és ', 'értelmezőinek ', 'értelmezését, ']"
      ],
      "execution_count": 1,
      "outputs": []
    },
    {
      "cell_type": "markdown",
      "metadata": {
        "id": "kRAM2StCdFwf"
      },
      "source": [
        "Később a telefonszolgáltató megtalálta a hiba okát, és elküldte, hogy milyen sorrendben kaptuk meg az eredeti szöveg szavait:"
      ]
    },
    {
      "cell_type": "code",
      "metadata": {
        "id": "YfEx-oA7dFwg"
      },
      "source": [
        "sorrend=[8,9,15,26,33,4,27,11,12,0,5,32,29,21,24,22,28,7,30,16,17,2,3,19,13,25,34,14,35,1,23,6,20,31,10,18]"
      ],
      "execution_count": 2,
      "outputs": []
    },
    {
      "cell_type": "code",
      "source": [
        "lista=[]\n",
        "mondat=''\n",
        "for i in range (0,len (sms)):\n",
        "  lista.append((sms[i],sorrend[i]))\n",
        "\n",
        "##print(lista)\n",
        "\n",
        "lista.sort(key=lambda x: x[1])\n",
        "##print(lista)\n",
        "\n",
        "for i in lista:\n",
        "  i[0]\n",
        "  ##print(i[0])\n",
        "  mondat+=i[0]\n",
        "print(mondat)"
      ],
      "metadata": {
        "colab": {
          "base_uri": "https://localhost:8080/"
        },
        "id": "tP-WP-2RD7nO",
        "outputId": "64900052-da08-42f3-9180-1edd83b3c51b"
      },
      "execution_count": 3,
      "outputs": [
        {
          "output_type": "stream",
          "name": "stdout",
          "text": [
            "Mivel két igazság sose mondhat ellent egymásnak, a Szentírás bölcs értelmezőinek a feladata, hogy megtalálják a szöveg azon értelmezését, ami egyezik azokkal a fizikai következtetésekkel, melyekben már biztosak vagyunk érzéki tapasztalataink és a szükséges kísérletek által.\n"
          ]
        }
      ]
    },
    {
      "cell_type": "markdown",
      "metadata": {
        "id": "sA6gpmXJdFwj"
      },
      "source": [
        "Azaz az általunk megkapott első szó az eredeti szövegben a 8-as indexet viselte, azaz a 9. volt.\n",
        "\n",
        "Írj egy olyan programot, ami helyreállítja az idézetet, valamint össze is fűzi a lista elemeit egy mondattá."
      ]
    },
    {
      "cell_type": "markdown",
      "metadata": {
        "id": "trwhokPldFwk"
      },
      "source": [
        "## 2. Feladat\n",
        "\n",
        "#### Dictionary - I.\n",
        "\n",
        "Írjatok egy függvényt, ami a megadott szótár segítségével tetszőleges magyar szöveget angolra fordít!\n",
        "\n",
        "- A fordítás történjen szóról szóra.\n",
        "- Ha ismeretlen szóval találkoztok, akkor csináljátok azt, amit a Google Translator: csak írjátok ki az eredeti szót fordítás nélkül. ( A szöveg többi részét természetesen le kell fordítani.)\n",
        "- Nem baj, ha nyelvtanilag nem helyes vagy értelmetlen a fordítás."
      ]
    },
    {
      "cell_type": "code",
      "metadata": {
        "id": "9tGUdBQndFwl"
      },
      "source": [
        "szotar={'a':'the',\n",
        "        'majom': 'monkey',\n",
        "        'kutya':'dog',\n",
        "        'szereti':'likes',\n",
        "        'banánt':'banana',\n",
        "        'kolbászt':'sausage'}\n",
        "\n",
        "pelda_szoveg='a majom szereti a banánt minden kutya szereti a kolbászt'"
      ],
      "execution_count": 4,
      "outputs": []
    },
    {
      "cell_type": "code",
      "source": [
        "tmp = pelda_szoveg.split()\n",
        "for i in tmp:\n",
        "  if i not in szotar:\n",
        "    print(i)\n",
        "  else:\n",
        "    print(szotar[i])"
      ],
      "metadata": {
        "colab": {
          "base_uri": "https://localhost:8080/"
        },
        "id": "ygQzX9qMCeNm",
        "outputId": "cf06739c-5ec5-4251-8a8f-9ed5be6fac45"
      },
      "execution_count": 5,
      "outputs": [
        {
          "output_type": "stream",
          "name": "stdout",
          "text": [
            "the\n",
            "monkey\n",
            "likes\n",
            "the\n",
            "banana\n",
            "minden\n",
            "dog\n",
            "likes\n",
            "the\n",
            "sausage\n"
          ]
        }
      ]
    },
    {
      "cell_type": "markdown",
      "metadata": {
        "id": "dK---IxJdFwo"
      },
      "source": [
        "## 3. feladat\n",
        "\n",
        "#### Függvények - II.\n",
        "\n",
        "Írj egy függvényt, ami a $$ ax^2+bx+c=0 $$ másodfokú egyenlet (valós és komplex) gyökeit határozza meg. Csak akkor kapjunk eredményként komplex számot, ha a diszkrimináns negatív!\n",
        "\n",
        "Példaként add meg a következő négy egyenlet megoldását:\n",
        "1. $x^2=100$\n",
        "2. $3x^2-25x=10$\n",
        "3. $-4x^2+4x=1$\n",
        "4. $25x^2+16x=-100$"
      ]
    },
    {
      "cell_type": "code",
      "source": [
        "import cmath"
      ],
      "metadata": {
        "id": "zji201yfBd9s"
      },
      "execution_count": 9,
      "outputs": []
    },
    {
      "cell_type": "code",
      "source": [
        "def masodfoku(a,b,c):\n",
        "  d=(b**2)-(4*a*c)\n",
        "  x1=(-b-cmath.sqrt(d))/(2*a)\n",
        "  x2=(-b-cmath.sqrt(d))/(2*a)\n",
        "  return x1, x2"
      ],
      "metadata": {
        "id": "4dZDkD3UBj4s"
      },
      "execution_count": 10,
      "outputs": []
    },
    {
      "cell_type": "code",
      "source": [
        "print('x^2=100=>x1,x2:',masodfoku(1,0,-100))"
      ],
      "metadata": {
        "colab": {
          "base_uri": "https://localhost:8080/"
        },
        "id": "Xij1viseA8pl",
        "outputId": "7c5af442-cc92-43c7-dceb-d05e55a15474"
      },
      "execution_count": 11,
      "outputs": [
        {
          "output_type": "stream",
          "name": "stdout",
          "text": [
            "x^2=100=>x1,x2: ((-10+0j), (-10+0j))\n"
          ]
        }
      ]
    },
    {
      "cell_type": "code",
      "source": [
        "print('3x^2-25=10 => x1,x2 :', masodfoku(3,-25,-10))"
      ],
      "metadata": {
        "id": "DNFGoZb-CoeP",
        "outputId": "2fd27195-ab1f-480e-cb07-646a5c56fffc",
        "colab": {
          "base_uri": "https://localhost:8080/"
        }
      },
      "execution_count": 12,
      "outputs": [
        {
          "output_type": "stream",
          "name": "stdout",
          "text": [
            "3x^2-25=10 => x1,x2 : ((-0.38244802131872707+0j), (-0.38244802131872707+0j))\n"
          ]
        }
      ]
    },
    {
      "cell_type": "code",
      "source": [
        "print('-4x^2+4x = 1 => x1,x2 :', masodfoku(-4,4,-1))"
      ],
      "metadata": {
        "id": "6xh2o6j5CooM",
        "outputId": "f4b618b2-5988-4569-c221-6b036c3e1b1f",
        "colab": {
          "base_uri": "https://localhost:8080/"
        }
      },
      "execution_count": 13,
      "outputs": [
        {
          "output_type": "stream",
          "name": "stdout",
          "text": [
            "-4x^2+4x = 1 => x1,x2 : ((0.5-0j), (0.5-0j))\n"
          ]
        }
      ]
    },
    {
      "cell_type": "code",
      "source": [
        "print('25x^2+16x=-100 => x1,x2 :', masodfoku(25,16,100))"
      ],
      "metadata": {
        "id": "38Y0Wo-9Ctzt",
        "outputId": "6163df6a-957f-4da6-8814-838d7405e9ed",
        "colab": {
          "base_uri": "https://localhost:8080/"
        }
      },
      "execution_count": 14,
      "outputs": [
        {
          "output_type": "stream",
          "name": "stdout",
          "text": [
            "25x^2+16x=-100 => x1,x2 : ((-0.32-1.9742340286804907j), (-0.32-1.9742340286804907j))\n"
          ]
        }
      ]
    },
    {
      "cell_type": "markdown",
      "metadata": {
        "id": "PxmZy_IRdFws"
      },
      "source": [
        "## 4. Feladat\n",
        "\n",
        "#### Docstring és változó számú argumentumok - I.\n",
        "\n",
        "Írjunk egy függvényt, amely egy kezdőértékből, egy kvóciensből és egy N egész számból legyárt egy N hosszú mértani sorozatot.\n",
        "\n",
        "Az általunk megírt függvény teljesítse a következő feltételeket:\n",
        "- írjunk **docstringet**,\n",
        "- a függvény egy listával **térjen vissza**\n",
        "- ha egy bemeneti értéke van, akkor azt tekintse kezdőértéknek, a kvóciens legyen 0.5, N pedig 10\n",
        "- ha két bemeneti érték van, akkor az első legyen a kezdőérték, a második a kvóciens, N pedig 10\n",
        "- ha megvan mind a három paraméter, akkor ugyanúgy viselkedjen, mint ahogy azt az előző feladatban tette"
      ]
    },
    {
      "cell_type": "code",
      "metadata": {
        "id": "gemtKC0SdFws"
      },
      "source": [
        "def mertani(x0,q=0.5,N=10):\n",
        "    \"\"\"Ez a mertani fuggvenyem , add meg a kezdo erteket ,mivel szorzod es ,hogy hany ertek\"\"\" \n",
        "    from typing import List\n",
        "    list=[]\n",
        "    a=0\n",
        "    a=x0*q\n",
        "    list.append(x0)\n",
        "    list.append(a)\n",
        "    for i in range(1,N-1):\n",
        "      a=a*q\n",
        "      list.append(a)\n",
        "    return list"
      ],
      "execution_count": 24,
      "outputs": []
    },
    {
      "cell_type": "code",
      "source": [
        "mertani(3,2,10)"
      ],
      "metadata": {
        "id": "yb_z_JMjEH3d",
        "outputId": "09f29176-a92a-4ef8-dccc-4142626f966d",
        "colab": {
          "base_uri": "https://localhost:8080/"
        }
      },
      "execution_count": 25,
      "outputs": [
        {
          "output_type": "execute_result",
          "data": {
            "text/plain": [
              "[3, 6, 12, 24, 48, 96, 192, 384, 768, 1536]"
            ]
          },
          "metadata": {},
          "execution_count": 25
        }
      ]
    },
    {
      "cell_type": "code",
      "source": [
        "mertani.__doc__"
      ],
      "metadata": {
        "id": "w7O0Iaj0ESUl",
        "outputId": "add7f304-caf3-459a-ef01-4d6c63924068",
        "colab": {
          "base_uri": "https://localhost:8080/",
          "height": 36
        }
      },
      "execution_count": 21,
      "outputs": [
        {
          "output_type": "execute_result",
          "data": {
            "application/vnd.google.colaboratory.intrinsic+json": {
              "type": "string"
            },
            "text/plain": [
              "'Ez a mertani fuggvenyem , add meg a kezdo erteket ,mivel szorzod es ,hogy hany ertek'"
            ]
          },
          "metadata": {},
          "execution_count": 21
        }
      ]
    },
    {
      "cell_type": "markdown",
      "metadata": {
        "id": "76srIpUudFwv"
      },
      "source": [
        "##  5. feladat\n",
        "\n",
        "#### Dictionary - II.\n",
        "\n",
        "A harmadik feladat magyar-angol szótárának megfordításával készítsétek el az angol-magyar szótárt, majd ennek segítségével a függvényt, ami tetszőleges angol szöveget magyarra fordít!\n",
        "\n",
        "- A kézzel bevitt szótár nem jó megoldás! (használjátok a `dict` típus `items()` tagfüggvényét!)\n",
        "\n",
        "- Ha ismeretlen szóval találkoztok, akkor csináljátok azt, amit a Google Translator: csak írjátok ki az eredeti szót fordítás nélkül. ( A szöveg többi részét természetesen le kell fordítani.)\n",
        "\n",
        "- Nem baj, ha nyelvtanilag nem helyes, vagy értelmetlen a fordítás.\n",
        "\n",
        "----"
      ]
    },
    {
      "cell_type": "code",
      "metadata": {
        "id": "yM95f8I0dFwv"
      },
      "source": [
        "szotar={'a':'the',\n",
        "        'majom': 'monkey',\n",
        "        'kutya':'dog',\n",
        "        'szereti':'likes',\n",
        "        'banánt':'banana',\n",
        "        'kolbászt':'sausage'}\n",
        "\n",
        "angol_mondat='The monkey likes banana. Every dog likes sausage.'"
      ],
      "execution_count": 26,
      "outputs": []
    },
    {
      "cell_type": "code",
      "source": [
        "tmp = angol_mondat.lower().split()\n",
        "for i in tmp:\n",
        "  ok=False\n",
        "  for key, value in szotar.items():\n",
        "    if i == value:\n",
        "      print(key)\n",
        "      ok=True\n",
        "  if not ok:\n",
        "    print(i)"
      ],
      "metadata": {
        "id": "rPb4qNURFVF9",
        "outputId": "ffa9623d-a1ca-4717-9aa6-954c546e70a9",
        "colab": {
          "base_uri": "https://localhost:8080/"
        }
      },
      "execution_count": 53,
      "outputs": [
        {
          "output_type": "stream",
          "name": "stdout",
          "text": [
            "a\n",
            "majom\n",
            "szereti\n",
            "banana.\n",
            "every\n",
            "kutya\n",
            "szereti\n",
            "sausage.\n"
          ]
        }
      ]
    },
    {
      "cell_type": "markdown",
      "metadata": {
        "id": "-qRGQ5HIdFwy"
      },
      "source": [
        "##  6. feladat \n",
        "\n",
        "#### Kulcsszavas függvény változó számú argumentummal\n",
        "\n",
        "Írjunk egy függvényt, amely egy adott **x** array-ben tárolt valós értékekre kiértékel egy tetszőleges polinomfüggvényt, vagy ábrázolja azt! \n",
        "- A polinom-együtthatókat egy tetszőleges hosszúságú **args** nevű váltózóban kapjuk.\n",
        "- Ha a **kwargs** kulcsszavas argumentumban a `csinal_kepet` kulcsszo `True` akkor ábrázoljuk a polinomot és ne térjünk vissza semmilyen értékkel, ellenkező esetben a függvény térjen vissza egy array változóval amely polinom értékeit tartalmazza az **x** változóban tárolt helyeken. \n",
        "- Az ábrázolás stilisztikai paramétereit a függvénynek adott egyéb kulcsszavas argumentumok segítségével állítsuk be!"
      ]
    },
    {
      "cell_type": "code",
      "metadata": {
        "id": "sJiHJMyLdFwy"
      },
      "source": [
        "def fuggveny(x,*args,**kwargs):\n",
        "    \"Kiértékelek vagy ábrázolok egy polinom-ot\"\n",
        "    import matplotlib.pyplot as plt\n",
        "    list=[]\n",
        "    for i in range(0,len(x)):\n",
        "      sum=args[0]+args[1]*x[i]+args[2]*x[i]**2+args[3]*x[i]**3+args[4]*x[i]**4+args[5]*x[i]**5\n",
        "      list.append(sum)\n",
        "\n",
        "\n",
        "    if kwargs=='csinal_kepet' :\n",
        "      plt.plot(x,list)\n",
        "\n",
        "    else:\n",
        "      return list"
      ],
      "execution_count": 55,
      "outputs": []
    },
    {
      "cell_type": "code",
      "source": [
        "\n",
        "params=[ 2.27171539, -1.1368942 ,  0.65380304, -0.25005187, -0.1751268 , -0.48828309];\n",
        "x=[0.3,0.2,0.5]\n",
        "fuggveny(x,params[0],params[1],params[2],params[3],params[4],params[5])"
      ],
      "metadata": {
        "id": "6i7R8JTCVuL1",
        "outputId": "0ba5a543-753b-4761-bd2d-ae5358960de4",
        "colab": {
          "base_uri": "https://localhost:8080/"
        }
      },
      "execution_count": 56,
      "outputs": [
        {
          "output_type": "execute_result",
          "data": {
            "text/plain": [
              "[1.9801329481213, 2.0680518031712, 1.8092582946874995]"
            ]
          },
          "metadata": {},
          "execution_count": 56
        }
      ]
    },
    {
      "cell_type": "markdown",
      "metadata": {
        "id": "PuID9ktLdFw1"
      },
      "source": [
        "## 7. feladat\n",
        "\n",
        "#### Listák - II.\n",
        "\n",
        "Ábrázold hisztogramon az [Anyám tyúkja](http://magyar-irodalom.elte.hu/sulinet/igyjo/setup/portrek/petofi/anyamtyu.htm) versben a szavak hosszának eloszlását."
      ]
    },
    {
      "cell_type": "code",
      "source": [
        "tyuk={'- Petőfi Sándor -Szöveggyűjtemény ANYÁM TYÚKJAEj mi a kő! tyúkanyó, kend A szobában lakik itt bent? Lám, csak jó az isten, jót ád, Hogy fölvitte a kend dolgát! Itt szaladgál föl és alá, Még a ládára is fölszáll, Eszébe jut, kotkodákol, S nem verik ki a szobábol. Dehogy verik, dehogy verik! Mint a galambot etetik, Válogat a kendermagban, A kiskirály sem él jobban. Ezért aztán, tyúkanyó, hát Jól megbecsűlje kend magát, Iparkodjék, ne legyen ám Tojás szűkében az anyám. – Morzsa kutyánk, hegyezd füled, Hadd beszélek mostan veled, Régi cseléd vagy a háznál, Mindig emberűl szolgáltál, Ezután is jó légy, Morzsa, Kedvet ne kapj a tyúkhusra, Élj a tyúkkal barátságba’... Anyám egyetlen jószága. (Vác, 1848. február.)'}"
      ],
      "metadata": {
        "id": "_tqYGkE0GCpn"
      },
      "execution_count": 35,
      "outputs": []
    },
    {
      "cell_type": "code",
      "source": [
        "from collections import Counter\n",
        "import numpy as np\n",
        "import matplotlib.pyplot as plt\n",
        "\n",
        "tyuk='- Petőfi Sándor -Szöveggyűjtemény ANYÁM TYÚKJAEj mi a kő! tyúkanyó, kend A szobában lakik itt bent? Lám, csak jó az isten, jót ád, Hogy fölvitte a kend dolgát! Itt szaladgál föl és alá, Még a ládára is fölszáll, Eszébe jut, kotkodákol, S nem verik ki a szobábol. Dehogy verik, dehogy verik! Mint a galambot etetik, Válogat a kendermagban, A kiskirály sem él jobban. Ezért aztán, tyúkanyó, hát Jól megbecsűlje kend magát, Iparkodjék, ne legyen ám Tojás szűkében az anyám. – Morzsa kutyánk, hegyezd füled, Hadd beszélek mostan veled, Régi cseléd vagy a háznál, Mindig emberűl szolgáltál, Ezután is jó légy, Morzsa, Kedvet ne kapj a tyúkhusra, Élj a tyúkkal barátságba’... Anyám egyetlen jószága. (Vác, 1848. február.)'\n",
        "xxx=list(tyuk)\n",
        "labels, values = zip(*Counter(xxx).items())\n",
        "\n",
        "indexes = np.arange(len(labels))\n",
        "width = 1\n",
        "\n",
        "plt.bar(indexes, values, width)\n",
        "plt.xticks(indexes + width * 0.5, labels)\n",
        "plt.show()"
      ],
      "metadata": {
        "id": "mAzWtDmXMKbI",
        "outputId": "661326bf-1e0b-4569-f38d-0613aea3475e",
        "colab": {
          "base_uri": "https://localhost:8080/",
          "height": 268
        }
      },
      "execution_count": 50,
      "outputs": [
        {
          "output_type": "display_data",
          "data": {
            "image/png": "[encoded data removed]",
            "text/plain": [
              "<Figure size 432x288 with 1 Axes>"
            ]
          },
          "metadata": {
            "needs_background": "light"
          }
        }
      ]
    },
    {
      "cell_type": "markdown",
      "metadata": {
        "id": "CAAfXZzzdFw2"
      },
      "source": [
        "##  8. Péksütemény \n",
        "\n",
        "#### Véletlen számok-II\n",
        "\n",
        "Írj egy olyan függvényt, melynek bemeneti értéke a $p$ valószínűség (mely egy 0 és 1 közötti szám), kimeneti értéke pedig $p$ valószínűséggel a \"kakaós csiga\" string, 1-$p$ valószínűséggel pedig a \"túrós táska\" string. Demonstráld hisztogram segítségével, hogy a függvényed helyes eloszlással generálja a kívánt péksüteményeket!"
      ]
    },
    {
      "cell_type": "code",
      "metadata": {
        "id": "YiU_180sdFw2"
      },
      "source": [
        ""
      ],
      "execution_count": null,
      "outputs": []
    }
  ]
}