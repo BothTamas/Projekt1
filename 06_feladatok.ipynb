{
  "nbformat": 4,
  "nbformat_minor": 0,
  "metadata": {
    "hide_input": false,
    "kernelspec": {
      "display_name": "Python 3",
      "language": "python",
      "name": "python3"
    },
    "language_info": {
      "codemirror_mode": {
        "name": "ipython",
        "version": 3
      },
      "file_extension": ".py",
      "mimetype": "text/x-python",
      "name": "python",
      "nbconvert_exporter": "python",
      "pygments_lexer": "ipython3",
      "version": "3.7.1"
    },
    "colab": {
      "name": "feladat01.ipynb",
      "provenance": [],
      "collapsed_sections": []
    }
  },
  "cells": [
    {
      "cell_type": "markdown",
      "metadata": {
        "id": "BrjbAqF7dFwX"
      },
      "source": [
        "# Feladatok\n",
        "\n",
        "\n",
        "\n",
        "----\n"
      ]
    },
    {
      "cell_type": "markdown",
      "metadata": {
        "id": "4u3wvRgsdFwa"
      },
      "source": [
        "## 1. Feladat\n",
        "#### Listák - I. \n",
        "\n",
        "Galileo Galilei egyik gondolatát küdték el nekünk SMS-ben, de sajnos hálózati hiba miatt nem sorrendben érkeztek meg a szavak. A következőt olvastuk a telefonunkban:"
      ]
    },
    {
      "cell_type": "code",
      "metadata": {
        "id": "KiIy4GbidFwb"
      },
      "source": [
        "sms=['Szentírás ', 'bölcs ', 'a ', 'már ', 'szükséges ', 'mondhat ', 'biztosak ', 'a ', \n",
        "     'feladata, ', 'Mivel ', 'ellent ', 'a ', 'érzéki ', 'azokkal ', 'következtetésekkel, ',\n",
        "     'a ', 'vagyunk ', 'a ', 'tapasztalataink ', 'szöveg ', 'azon ', 'igazság ', 'sose ',\n",
        "     'ami ', 'hogy ', 'melyekben ', 'kísérletek ', 'megtalálják ', 'által.', 'két ', 'fizikai ',\n",
        "     'egymásnak, ', 'egyezik ', 'és ', 'értelmezőinek ', 'értelmezését, ']"
      ],
      "execution_count": 5,
      "outputs": []
    },
    {
      "cell_type": "markdown",
      "metadata": {
        "id": "kRAM2StCdFwf"
      },
      "source": [
        "Később a telefonszolgáltató megtalálta a hiba okát, és elküldte, hogy milyen sorrendben kaptuk meg az eredeti szöveg szavait:"
      ]
    },
    {
      "cell_type": "code",
      "metadata": {
        "id": "YfEx-oA7dFwg"
      },
      "source": [
        "sorrend=[8,9,15,26,33,4,27,11,12,0,5,32,29,21,24,22,28,7,30,16,17,2,3,19,13,25,34,14,35,1,23,6,20,31,10,18]"
      ],
      "execution_count": 6,
      "outputs": []
    },
    {
      "cell_type": "code",
      "source": [
        "lista=[]\n",
        "mondat=''\n",
        "for i in range (0,len (sms)):\n",
        "  lista.append((sms[i],sorrend[i]))\n",
        "\n",
        "##print(lista)\n",
        "\n",
        "lista.sort(key=lambda x: x[1])\n",
        "##print(lista)\n",
        "\n",
        "for i in lista:\n",
        "  i[0]\n",
        "  ##print(i[0])\n",
        "  mondat+=i[0]\n",
        "print(mondat)"
      ],
      "metadata": {
        "colab": {
          "base_uri": "https://localhost:8080/"
        },
        "id": "tP-WP-2RD7nO",
        "outputId": "501b9e36-59c8-4402-e0ab-dca9fdf67919"
      },
      "execution_count": 7,
      "outputs": [
        {
          "output_type": "stream",
          "name": "stdout",
          "text": [
            "Mivel két igazság sose mondhat ellent egymásnak, a Szentírás bölcs értelmezőinek a feladata, hogy megtalálják a szöveg azon értelmezését, ami egyezik azokkal a fizikai következtetésekkel, melyekben már biztosak vagyunk érzéki tapasztalataink és a szükséges kísérletek által.\n"
          ]
        }
      ]
    },
    {
      "cell_type": "markdown",
      "metadata": {
        "id": "sA6gpmXJdFwj"
      },
      "source": [
        "Azaz az általunk megkapott első szó az eredeti szövegben a 8-as indexet viselte, azaz a 9. volt.\n",
        "\n",
        "Írj egy olyan programot, ami helyreállítja az idézetet, valamint össze is fűzi a lista elemeit egy mondattá."
      ]
    },
    {
      "cell_type": "markdown",
      "metadata": {
        "id": "trwhokPldFwk"
      },
      "source": [
        "## 2. Feladat\n",
        "\n",
        "#### Dictionary - I.\n",
        "\n",
        "Írjatok egy függvényt, ami a megadott szótár segítségével tetszőleges magyar szöveget angolra fordít!\n",
        "\n",
        "- A fordítás történjen szóról szóra.\n",
        "- Ha ismeretlen szóval találkoztok, akkor csináljátok azt, amit a Google Translator: csak írjátok ki az eredeti szót fordítás nélkül. ( A szöveg többi részét természetesen le kell fordítani.)\n",
        "- Nem baj, ha nyelvtanilag nem helyes vagy értelmetlen a fordítás."
      ]
    },
    {
      "cell_type": "code",
      "metadata": {
        "id": "9tGUdBQndFwl"
      },
      "source": [
        "szotar={'a':'the',\n",
        "        'majom': 'monkey',\n",
        "        'kutya':'dog',\n",
        "        'szereti':'likes',\n",
        "        'banánt':'banana',\n",
        "        'kolbászt':'sausage'}\n",
        "\n",
        "pelda_szoveg='a majom szereti a banánt minden kutya szereti a kolbászt'"
      ],
      "execution_count": 8,
      "outputs": []
    },
    {
      "cell_type": "code",
      "source": [
        "tmp = pelda_szoveg.split()\n",
        "for i in tmp:\n",
        "  if i not in szotar:\n",
        "    print(i)\n",
        "  else:\n",
        "    print(szotar[i])"
      ],
      "metadata": {
        "colab": {
          "base_uri": "https://localhost:8080/"
        },
        "id": "ygQzX9qMCeNm",
        "outputId": "887e7e30-eaee-4c8e-fc91-4ef3f5269be4"
      },
      "execution_count": 9,
      "outputs": [
        {
          "output_type": "stream",
          "name": "stdout",
          "text": [
            "the\n",
            "monkey\n",
            "likes\n",
            "the\n",
            "banana\n",
            "minden\n",
            "dog\n",
            "likes\n",
            "the\n",
            "sausage\n"
          ]
        }
      ]
    },
    {
      "cell_type": "markdown",
      "metadata": {
        "id": "dK---IxJdFwo"
      },
      "source": [
        "## 3. feladat\n",
        "\n",
        "#### Függvények - II.\n",
        "\n",
        "Írj egy függvényt, ami a $$ ax^2+bx+c=0 $$ másodfokú egyenlet (valós és komplex) gyökeit határozza meg. Csak akkor kapjunk eredményként komplex számot, ha a diszkrimináns negatív!\n",
        "\n",
        "Példaként add meg a következő négy egyenlet megoldását:\n",
        "1. $x^2=100$\n",
        "2. $3x^2-25x=10$\n",
        "3. $-4x^2+4x=1$\n",
        "4. $25x^2+16x=-100$"
      ]
    },
    {
      "cell_type": "code",
      "source": [
        "import cmath"
      ],
      "metadata": {
        "id": "zji201yfBd9s"
      },
      "execution_count": 10,
      "outputs": []
    },
    {
      "cell_type": "code",
      "source": [
        "def masodfoku(a,b,c):\n",
        "  d=(b**2)-(4*a*c)\n",
        "  x1=(-b-cmath.sqrt(d))/(2*a)\n",
        "  x2=(-b-cmath.sqrt(d))/(2*a)\n",
        "  return x1, x2"
      ],
      "metadata": {
        "id": "4dZDkD3UBj4s"
      },
      "execution_count": 11,
      "outputs": []
    },
    {
      "cell_type": "code",
      "source": [
        "print('x^2=100=>x1,x2:',masodfoku(1,0,-100))"
      ],
      "metadata": {
        "colab": {
          "base_uri": "https://localhost:8080/"
        },
        "id": "Xij1viseA8pl",
        "outputId": "c6f56b47-c090-4051-8c9f-0492441e20b2"
      },
      "execution_count": 12,
      "outputs": [
        {
          "output_type": "stream",
          "name": "stdout",
          "text": [
            "x^2=100=>x1,x2: ((-10+0j), (-10+0j))\n"
          ]
        }
      ]
    },
    {
      "cell_type": "markdown",
      "metadata": {
        "id": "PxmZy_IRdFws"
      },
      "source": [
        "## 4. Feladat\n",
        "\n",
        "#### Docstring és változó számú argumentumok - I.\n",
        "\n",
        "Írjunk egy függvényt, amely egy kezdőértékből, egy kvóciensből és egy N egész számból legyárt egy N hosszú mértani sorozatot.\n",
        "\n",
        "Az általunk megírt függvény teljesítse a következő feltételeket:\n",
        "- írjunk **docstringet**,\n",
        "- a függvény egy listával **térjen vissza**\n",
        "- ha egy bemeneti értéke van, akkor azt tekintse kezdőértéknek, a kvóciens legyen 0.5, N pedig 10\n",
        "- ha két bemeneti érték van, akkor az első legyen a kezdőérték, a második a kvóciens, N pedig 10\n",
        "- ha megvan mind a három paraméter, akkor ugyanúgy viselkedjen, mint ahogy azt az előző feladatban tette"
      ]
    },
    {
      "cell_type": "code",
      "metadata": {
        "id": "gemtKC0SdFws"
      },
      "source": [
        "def mertani(x0,q=0.5,N=10):\n",
        "    \"\"\"x kezdo ertek q kvociens N medig menyen\"\"\" # ide jön a docstring\n",
        "    from typing import List\n",
        "    list=[]\n",
        "    sum=0\n",
        "    sum=x0*q\n",
        "    list.append(x0)\n",
        "    list.append(sum)\n",
        "    for i in range(0,N-2):\n",
        "      sum=sum*q\n",
        "      list.append(sum)\n",
        "   \n",
        "    return list\n"
      ],
      "execution_count": 13,
      "outputs": []
    },
    {
      "cell_type": "code",
      "source": [
        "mertani(3)"
      ],
      "metadata": {
        "id": "BZ7gf_v65UdM",
        "outputId": "6e6b4c5c-f409-4846-9bf5-125093c7976f",
        "colab": {
          "base_uri": "https://localhost:8080/"
        }
      },
      "execution_count": 16,
      "outputs": [
        {
          "output_type": "execute_result",
          "data": {
            "text/plain": [
              "[3,\n",
              " 1.5,\n",
              " 0.75,\n",
              " 0.375,\n",
              " 0.1875,\n",
              " 0.09375,\n",
              " 0.046875,\n",
              " 0.0234375,\n",
              " 0.01171875,\n",
              " 0.005859375]"
            ]
          },
          "metadata": {},
          "execution_count": 16
        }
      ]
    },
    {
      "cell_type": "markdown",
      "metadata": {
        "id": "76srIpUudFwv"
      },
      "source": [
        "##  5. feladat\n",
        "\n",
        "#### Dictionary - II.\n",
        "\n",
        "A harmadik feladat magyar-angol szótárának megfordításával készítsétek el az angol-magyar szótárt, majd ennek segítségével a függvényt, ami tetszőleges angol szöveget magyarra fordít!\n",
        "\n",
        "- A kézzel bevitt szótár nem jó megoldás! (használjátok a `dict` típus `items()` tagfüggvényét!)\n",
        "\n",
        "- Ha ismeretlen szóval találkoztok, akkor csináljátok azt, amit a Google Translator: csak írjátok ki az eredeti szót fordítás nélkül. ( A szöveg többi részét természetesen le kell fordítani.)\n",
        "\n",
        "- Nem baj, ha nyelvtanilag nem helyes, vagy értelmetlen a fordítás.\n",
        "\n",
        "----"
      ]
    },
    {
      "cell_type": "code",
      "metadata": {
        "id": "yM95f8I0dFwv"
      },
      "source": [
        "szotar={'a':'the',\n",
        "        'majom': 'monkey',\n",
        "        'kutya':'dog',\n",
        "        'szereti':'likes',\n",
        "        'banánt':'banana',\n",
        "        'kolbászt':'sausage'}\n",
        "\n",
        "angol_mondat='The monkey likes banana. Every dog likes sausage.'"
      ],
      "execution_count": 14,
      "outputs": []
    },
    {
      "cell_type": "code",
      "source": [
        "szo = angol_mondat.lower().split()\n",
        "for i in szo:\n",
        "  chek=False\n",
        "  for key, value in szotar.items():\n",
        "    if i == value:\n",
        "      print(key)\n",
        "      chek=True\n",
        "  if not chek:\n",
        "    print(i)"
      ],
      "metadata": {
        "id": "pfsvmYlr5sR8",
        "outputId": "d7ad2dee-5be6-4afc-d063-96d589f4a6e4",
        "colab": {
          "base_uri": "https://localhost:8080/"
        }
      },
      "execution_count": 18,
      "outputs": [
        {
          "output_type": "stream",
          "name": "stdout",
          "text": [
            "a\n",
            "majom\n",
            "szereti\n",
            "banana.\n",
            "every\n",
            "kutya\n",
            "szereti\n",
            "sausage.\n"
          ]
        }
      ]
    },
    {
      "cell_type": "markdown",
      "metadata": {
        "id": "-qRGQ5HIdFwy"
      },
      "source": [
        "##  6. feladat \n",
        "\n",
        "#### Kulcsszavas függvény változó számú argumentummal\n",
        "\n",
        "Írjunk egy függvényt, amely egy adott **x** array-ben tárolt valós értékekre kiértékel egy tetszőleges polinomfüggvényt, vagy ábrázolja azt! \n",
        "- A polinom-együtthatókat egy tetszőleges hosszúságú **args** nevű váltózóban kapjuk.\n",
        "- Ha a **kwargs** kulcsszavas argumentumban a `csinal_kepet` kulcsszo `True` akkor ábrázoljuk a polinomot és ne térjünk vissza semmilyen értékkel, ellenkező esetben a függvény térjen vissza egy array változóval amely polinom értékeit tartalmazza az **x** változóban tárolt helyeken. \n",
        "- Az ábrázolás stilisztikai paramétereit a függvénynek adott egyéb kulcsszavas argumentumok segítségével állítsuk be!"
      ]
    },
    {
      "cell_type": "code",
      "metadata": {
        "id": "sJiHJMyLdFwy",
        "outputId": "af76f568-1137-4857-d7eb-ba49099bae66",
        "colab": {
          "base_uri": "https://localhost:8080/"
        }
      },
      "source": [
        "\n",
        "import numpy\n",
        "import matplotlib.pyplot as plt\n",
        "\n",
        "def fuggveny(x,*args,**kwargs):\n",
        "    \"Kiértékelek vagy ábrázolok egy polinom-ot\"\n",
        "    aux=kwargs.items()\n",
        "    arg = list(args)\n",
        "    help=len(arg)-1\n",
        "    sum=0\n",
        "    for i in aux:\n",
        "      alma=i\n",
        "    if alma[1]:\n",
        "      fx = []\n",
        "      xx=numpy.linspace(-100,100,num=1000)\n",
        "      for i in xx:\n",
        "        for j in arg:\n",
        "          sum=sum+j*i**help\n",
        "          help = help-1\n",
        "        fx.append(sum)\n",
        "        sum = 0\n",
        "        help = len(arg)-1\n",
        "      plt.plot(xx,fx)\n",
        "      plt.grid()\n",
        "      plt.axvline()\n",
        "      plt.axhline()\n",
        "      plt.show\n",
        "    else:\n",
        "      for i in range(0,len(x)):\n",
        "        x[i]=numpy.polyval(args,x[i])\n",
        "      return x\n",
        "print(fuggveny([1,2,3],1,2,1,csinal_kepet=False))"
      ],
      "execution_count": 17,
      "outputs": [
        {
          "output_type": "stream",
          "name": "stdout",
          "text": [
            "[4, 9, 16]\n"
          ]
        }
      ]
    },
    {
      "cell_type": "markdown",
      "metadata": {
        "id": "PuID9ktLdFw1"
      },
      "source": [
        "## 7. feladat\n",
        "\n",
        "#### Listák - II.\n",
        "\n",
        "Ábrázold hisztogramon az [Anyám tyúkja](http://magyar-irodalom.elte.hu/sulinet/igyjo/setup/portrek/petofi/anyamtyu.htm) versben a szavak hosszának eloszlását."
      ]
    },
    {
      "cell_type": "code",
      "source": [
        "\n",
        "import matplotlib.pyplot as plt\n",
        "import re\n",
        "anyam_tyukja = \"Ej, mi a kő! tyúkanyó, kend A szobában lakik itt bent? Lám, csak jó az isten, jót ád, Hogy fölvitte a kend dolgát! Itt szaladgál föl és alá, Még a ládára is fölszáll, Eszébe jut, kotkodácsol, S nem verik ki a szobából. Dehogy verik, dehogy verik! Mint a galambot etetik, Válogat a kendermagban, A kiskirály sem él jobban. Ezért aztán, tyúkanyó, hát Jól megbecsűlje kend magát, Iparkodjék, ne legyen ám Tojás szűkében az anyám. - Morzsa kutyánk, hegyezd füled, Hadd beszélek mostan veled, Régi cseléd vagy a háznál, Mindig emberűl szolgáltál, Ezután is jó légy, Morzsa, Kedvet ne kapj a tyúkhusra, Élj a tyúkkal barátságba'... Anyám egyetlen jószága. \"\n",
        "pattern=r'\\W+'\n",
        "anyam_tyukja_lista=re.split(pattern,anyam_tyukja)\n",
        "anyam_tyukja_lista.pop(len(anyam_tyukja_lista)-1)\n",
        "szavak_hossza_lista = []\n",
        "db = []\n",
        "for i in range(20):\n",
        "  db.append(0)\n",
        "for i in anyam_tyukja_lista:\n",
        "  if len(i) not in szavak_hossza_lista:\n",
        "    szavak_hossza_lista.append(len(i))\n",
        "    db[len(i)] = db[len(i)] + 1\n",
        "  else:\n",
        "    db[len(i)] = db[len(i)] + 1\n",
        "szavak_hossza_lista.sort()\n",
        "fig = plt.figure()\n",
        "ax = fig.add_axes([0,0,1,1])\n",
        "ax.bar(szavak_hossza_lista,db[1:13])\n",
        "plt.ylabel('db')\n",
        "plt.xlabel('szavak hossza')\n",
        "plt.show()"
      ],
      "metadata": {
        "id": "BlhvAFPx5j_b",
        "outputId": "886507ae-6e0f-4f1a-f99b-ead8c48666ce",
        "colab": {
          "base_uri": "https://localhost:8080/",
          "height": 350
        }
      },
      "execution_count": 19,
      "outputs": [
        {
          "output_type": "display_data",
          "data": {
            "image/png": "[encoded data removed]",
            "text/plain": [
              "<Figure size 432x288 with 1 Axes>"
            ]
          },
          "metadata": {
            "needs_background": "light"
          }
        }
      ]
    },
    {
      "cell_type": "markdown",
      "metadata": {
        "id": "CAAfXZzzdFw2"
      },
      "source": [
        "##  8. Péksütemény \n",
        "\n",
        "#### Véletlen számok-II\n",
        "\n",
        "Írj egy olyan függvényt, melynek bemeneti értéke a $p$ valószínűség (mely egy 0 és 1 közötti szám), kimeneti értéke pedig $p$ valószínűséggel a \"kakaós csiga\" string, 1-$p$ valószínűséggel pedig a \"túrós táska\" string. Demonstráld hisztogram segítségével, hogy a függvényed helyes eloszlással generálja a kívánt péksüteményeket!"
      ]
    },
    {
      "cell_type": "code",
      "metadata": {
        "id": "YiU_180sdFw2",
        "outputId": "5de25bd0-0820-4ccc-c2f6-093ac64564a6",
        "colab": {
          "base_uri": "https://localhost:8080/",
          "height": 367
        }
      },
      "source": [
        "from random import choices\n",
        "def function(p):\n",
        "  population = ['kakaós csiga','túrós táska']\n",
        "  weights = [p, 1-p]\n",
        "  choice = []\n",
        "  for i in range(1000):\n",
        "    choice=choice+choices(population,weights)\n",
        "  num = [0,0]\n",
        "  for i in choice:\n",
        "    if i == 'kakaós csiga':\n",
        "      num[0] = num[0] + 1\n",
        "    else:\n",
        "      num[1] = num[1] + 1\n",
        "  print(num)\n",
        "  fig = plt.figure()\n",
        "  ax = fig.add_axes([0,0,1,1])\n",
        "  ax.bar(population,num)\n",
        "  plt.ylabel('db')\n",
        "  plt.xlabel('valasztas')\n",
        "  plt.show()\n",
        "function(0.78)"
      ],
      "execution_count": 20,
      "outputs": [
        {
          "output_type": "stream",
          "name": "stdout",
          "text": [
            "[773, 227]\n"
          ]
        },
        {
          "output_type": "display_data",
          "data": {
            "image/png": "[encoded data removed]",
            "text/plain": [
              "<Figure size 432x288 with 1 Axes>"
            ]
          },
          "metadata": {
            "needs_background": "light"
          }
        }
      ]
    }
  ]
}